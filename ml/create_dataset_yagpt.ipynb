{
 "cells": [
  {
   "cell_type": "markdown",
   "metadata": {},
   "source": [
    "# Ф-ия для генерации датасета  \n",
    "Датасет был сгенерирован с помощью YandexGPT, но не удалось дообучить модель Saiga из за нехватки ресурсов и проблем с datasphere.  \n",
    "Предобученная Saiga также хорошо справляется с данной задачей, поэтому дообучение решено оставить на дальнейшее развитие"
   ]
  },
  {
   "cell_type": "code",
   "execution_count": null,
   "metadata": {},
   "outputs": [],
   "source": [
    "from langchain.llms import YandexGPT\n",
    "import time\n",
    "ygpt = YandexGPT(api_key=\"AQVN0k6NUUf9UZkghayg6kGpyI8tNybqaj58cU60\")\n",
    "\n",
    "def exctract_term(text):\n",
    "    output = None\n",
    "    promt = f\"\"\"\n",
    "Найди ключевой термин для которого дано опеределение в данном тексте.\n",
    "Важно: для термина должно быть дано опредление в тексте.\n",
    "Если термин с определением есть, выводи {{термин}}\n",
    "Если термина с определением нет, то выводи {{None}}.\n",
    "Текст:\n",
    "{text}\n",
    "\"\"\"\n",
    "    while True:\n",
    "        time.sleep(3)\n",
    "        try:\n",
    "            output = ygpt(promt, temperature = 0.005)\n",
    "            if output:\n",
    "                break\n",
    "        except:\n",
    "            continue\n",
    "            \n",
    "    return {'system': 'Ты ищешь термин для которого есть определение в тексте','user': promt, 'bot': output}\n",
    "\n",
    "\n",
    "data = exctract_term(text)\n",
    "with open('/kaggle/working/testoviy.json', \"w\", encoding='utf-8') as w:\n",
    "    json.dump(data, w, ensure_ascii=False)"
   ]
  }
 ],
 "metadata": {
  "language_info": {
   "name": "python"
  }
 },
 "nbformat": 4,
 "nbformat_minor": 2
}
